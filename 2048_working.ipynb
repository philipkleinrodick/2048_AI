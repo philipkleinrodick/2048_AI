{
 "cells": [
  {
   "cell_type": "code",
   "execution_count": 197,
   "metadata": {},
   "outputs": [],
   "source": [
    "import numpy as np\n",
    "import pandas as pd\n",
    "import copy\n",
    "from collections import defaultdict\n",
    "\n",
    "np.random.seed(1)"
   ]
  },
  {
   "cell_type": "code",
   "execution_count": 198,
   "metadata": {},
   "outputs": [
    {
     "data": {
      "text/plain": [
       "1"
      ]
     },
     "execution_count": 198,
     "metadata": {},
     "output_type": "execute_result"
    }
   ],
   "source": [
    "Grid = np.array([np.zeros(4) for i in range(4)])\n",
    "np.random.randint(4)"
   ]
  },
  {
   "cell_type": "code",
   "execution_count": 202,
   "metadata": {},
   "outputs": [],
   "source": [
    "class Board():\n",
    "    score =0\n",
    "    lose = 0\n",
    "    tile = 2\n",
    "    def __init__(self):\n",
    "        self.grid = np.array([np.zeros(4) for i in range(4)])\n",
    "        i = np.random.randint(4)\n",
    "        j = np.random.randint(4)\n",
    "        self.grid[i,j] = 2\n",
    "        k,l = i,j\n",
    "\n",
    "        while(i==k and l==j):\n",
    "            k = np.random.randint(4)\n",
    "            l = np.random.randint(4)\n",
    "        self.grid[k,l] = 2\n",
    "\n",
    "### Shift, merge, and move constitute one move ###        \n",
    "    def shift(self):\n",
    "        current = np.array([np.zeros(4) for i in range(4)])\n",
    "        for i in range(4):\n",
    "            position = 0\n",
    "            for j in range(4):\n",
    "                if self.grid[i][j] != 0:\n",
    "                    current[i][position] = self.grid[i][j]\n",
    "                    position+=1\n",
    "        self.grid = current\n",
    "    def merge(self):\n",
    "        #shift left, merge values, shift left\n",
    "        self.shift()\n",
    "        for i in range(4):\n",
    "            for j in range(3):\n",
    "                if self.grid[i][j] == self.grid[i][j+1] and self.grid[i][j] != 0:\n",
    "                    self.grid[i][j] *= 2\n",
    "                    self.score+= self.grid[i][j]\n",
    "                    if (self.grid[i][j]) > self.tile:\n",
    "                        self.tile = self.grid[i][j]\n",
    "                    self.grid[i][j+1] = 0\n",
    "        self.shift()\n",
    "        \n",
    "    def move(self, direction):\n",
    "        #Merge everything left.  Use flip and transpose for other orientations\n",
    "        if direction == 'u':\n",
    "            self.grid = np.transpose(self.grid)\n",
    "            self.merge()\n",
    "            self.grid = np.transpose(self.grid)\n",
    "        elif direction == 'd':\n",
    "            self.grid = np.flip(np.transpose(self.grid),1)\n",
    "            self.merge()\n",
    "            self.grid = np.transpose(np.flip(self.grid,1))\n",
    "        elif direction == 'r':\n",
    "            self.grid = np.flip(self.grid)\n",
    "            self.merge()\n",
    "            self.grid = np.flip(self.grid)\n",
    "        else:\n",
    "            self.merge()\n",
    "        \n",
    "### Check if the player has lost ###\n",
    "    def lost(self):\n",
    "        self.lose = 1\n",
    "        for i in range(4):\n",
    "            for j in range(4):\n",
    "                if self.grid[i][j] == 0:\n",
    "                    self.lose = 0 #Haven't lost yet\n",
    "        for i in range(4):\n",
    "            for j in range(4):\n",
    "                try:\n",
    "                    if (self.grid[i][j] == self.grid[i+1][j]):\n",
    "                        self.lose = 0\n",
    "                except:\n",
    "                    pass\n",
    "                try:\n",
    "                    if (self.grid[i][j] == self.grid[i][j+1]):\n",
    "                        self.lose = 0\n",
    "                except:\n",
    "                    pass\n",
    "        \n",
    "    def add_tile(self):\n",
    "        possibilities = []\n",
    "        for i in range(4):\n",
    "            for j in range(4):\n",
    "                if self.grid[i][j] == 0:\n",
    "                    possibilities.append((i,j))\n",
    "        value = np.random.choice([2,4], p=(.9,.1))\n",
    "        if possibilities:\n",
    "            a=possibilities[np.random.choice(len(possibilities))]\n",
    "            self.grid[a] = value\n",
    "    def random_game(self):\n",
    "        states = []\n",
    "        while (not self.lose):\n",
    "            move = np.random.choice(['l','r','u','d'])\n",
    "            self.move(move)\n",
    "            states.append((self.grid, move))\n",
    "            self.lost()\n",
    "            self.add_tile()\n",
    "#        print(self.grid)\n",
    "#        print(self.score)\n",
    "        return states\n",
    "   "
   ]
  },
  {
   "cell_type": "code",
   "execution_count": 203,
   "metadata": {},
   "outputs": [],
   "source": [
    "### Different game strategies here ###\n",
    "def monte_carlo(game):\n",
    "    def getmove(game):\n",
    "        grids = []\n",
    "        for i in range(10):\n",
    "            grids.append(copy.deepcopy(game))\n",
    "        move_scores = defaultdict(list)\n",
    "        for game in grids:\n",
    "            state = game.random_game()\n",
    "            score = game.score\n",
    "            initial_move = state[0][1]\n",
    "            move_scores[initial_move].append( score)\n",
    "        move = 'l'\n",
    "        score = 0\n",
    "        for key, value in move_scores.items():\n",
    "             if (sum(value)/len(value) >score ):\n",
    "                    move = key\n",
    "                    score = sum(value)/len(value)\n",
    "        return move\n",
    "            \n",
    "\n",
    "    states = []\n",
    "    while (not game.lose):\n",
    "        move = getmove(game)\n",
    "        game.move(move)\n",
    "        states.append((game.grid, move))\n",
    "        game.lost()\n",
    "        game.add_tile()\n",
    "#    print(game.grid)\n",
    "    print(game.score)\n",
    "    print(game.tile)\n",
    "    return states\n"
   ]
  },
  {
   "cell_type": "code",
   "execution_count": 204,
   "metadata": {},
   "outputs": [
    {
     "name": "stdout",
     "output_type": "stream",
     "text": [
      "352.0\n",
      "32.0\n",
      "14536.0\n",
      "1024.0\n",
      "7140.0\n",
      "512.0\n",
      "1784.0\n",
      "128.0\n",
      "2224.0\n",
      "256.0\n",
      "5228.0\n",
      "512.0\n",
      "5496.0\n",
      "512.0\n",
      "9396.0\n",
      "512.0\n",
      "11160.0\n",
      "1024.0\n",
      "1508.0\n",
      "128.0\n"
     ]
    }
   ],
   "source": [
    "for i in range(10):\n",
    "    board = Board()\n",
    "    states = monte_carlo(board)"
   ]
  },
  {
   "cell_type": "code",
   "execution_count": 193,
   "metadata": {},
   "outputs": [
    {
     "data": {
      "text/plain": [
       "1068.0"
      ]
     },
     "execution_count": 193,
     "metadata": {},
     "output_type": "execute_result"
    }
   ],
   "source": [
    "board = Board()\n",
    "board.random_game()\n",
    "board.score"
   ]
  },
  {
   "cell_type": "code",
   "execution_count": null,
   "metadata": {},
   "outputs": [],
   "source": []
  }
 ],
 "metadata": {
  "kernelspec": {
   "display_name": "learn-env",
   "language": "python",
   "name": "learn-env"
  },
  "language_info": {
   "codemirror_mode": {
    "name": "ipython",
    "version": 3
   },
   "file_extension": ".py",
   "mimetype": "text/x-python",
   "name": "python",
   "nbconvert_exporter": "python",
   "pygments_lexer": "ipython3",
   "version": "3.6.6"
  }
 },
 "nbformat": 4,
 "nbformat_minor": 2
}
