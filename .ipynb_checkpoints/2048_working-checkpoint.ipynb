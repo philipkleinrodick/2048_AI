{
 "cells": [
  {
   "cell_type": "code",
   "execution_count": 1,
   "metadata": {},
   "outputs": [],
   "source": [
    "\n",
    "import numpy as np\n",
    "import pandas as pd\n",
    "import copy\n",
    "from collections import defaultdict\n",
    "\n",
    "np.random.seed(1)"
   ]
  },
  {
   "cell_type": "code",
   "execution_count": 2,
   "metadata": {},
   "outputs": [],
   "source": [
    "from multiprocessing import Pool"
   ]
  },
  {
   "cell_type": "code",
   "execution_count": 3,
   "metadata": {},
   "outputs": [
    {
     "data": {
      "text/plain": [
       "1"
      ]
     },
     "execution_count": 3,
     "metadata": {},
     "output_type": "execute_result"
    }
   ],
   "source": [
    "Grid = np.array([np.zeros(4) for i in range(4)])\n",
    "np.random.randint(4)"
   ]
  },
  {
   "cell_type": "code",
   "execution_count": 4,
   "metadata": {},
   "outputs": [],
   "source": [
    "class Board():\n",
    "    score =0\n",
    "    lose = 0\n",
    "    tile = 2\n",
    "    def __init__(self):\n",
    "        self.grid = np.array([np.zeros(4) for i in range(4)])\n",
    "        i = np.random.randint(4)\n",
    "        j = np.random.randint(4)\n",
    "        self.grid[i,j] = 2\n",
    "        k,l = i,j\n",
    "\n",
    "        while(i==k and l==j):\n",
    "            k = np.random.randint(4)\n",
    "            l = np.random.randint(4)\n",
    "        self.grid[k,l] = 2\n",
    "\n",
    "### Shift, merge, and move constitute one move ###        \n",
    "    def shift(self):\n",
    "        current = np.array([np.zeros(4) for i in range(4)])\n",
    "        for i in range(4):\n",
    "            position = 0\n",
    "            for j in range(4):\n",
    "                if self.grid[i][j] != 0:\n",
    "                    current[i][position] = self.grid[i][j]\n",
    "                    position+=1\n",
    "        self.grid = current\n",
    "    def merge(self):\n",
    "        #shift left, merge values, shift left\n",
    "        self.shift()\n",
    "        for i in range(4):\n",
    "            for j in range(3):\n",
    "                if self.grid[i][j] == self.grid[i][j+1] and self.grid[i][j] != 0:\n",
    "                    self.grid[i][j] *= 2\n",
    "                    self.score+= self.grid[i][j]\n",
    "                    if (self.grid[i][j]) > self.tile:\n",
    "                        self.tile = self.grid[i][j]\n",
    "                    self.grid[i][j+1] = 0\n",
    "        self.shift()\n",
    "        \n",
    "    def move(self, direction):\n",
    "        #Merge everything left.  Use flip and transpose for other orientations\n",
    "        self.temp = copy.deepcopy(self.grid)\n",
    "        if direction == 'u':\n",
    "            self.grid = np.transpose(self.grid)\n",
    "            self.merge()\n",
    "            self.grid = np.transpose(self.grid)\n",
    "        elif direction == 'd':\n",
    "            self.grid = np.flip(np.transpose(self.grid),1)\n",
    "            self.merge()\n",
    "            self.grid = np.transpose(np.flip(self.grid,1))\n",
    "        elif direction == 'r':\n",
    "            self.grid = np.flip(self.grid)\n",
    "            self.merge()\n",
    "            self.grid = np.flip(self.grid)\n",
    "        else:\n",
    "            self.merge()\n",
    "        \n",
    "### Check if the player has lost ###\n",
    "    def lost(self):\n",
    "        self.lose = 1\n",
    "        for i in range(4):\n",
    "            for j in range(4):\n",
    "                if self.grid[i][j] == 0:\n",
    "                    self.lose = 0 #Haven't lost yet\n",
    "        for i in range(4):\n",
    "            for j in range(4):\n",
    "                try:\n",
    "                    if (self.grid[i][j] == self.grid[i+1][j]):\n",
    "                        self.lose = 0\n",
    "                except:\n",
    "                    pass\n",
    "                try:\n",
    "                    if (self.grid[i][j] == self.grid[i][j+1]):\n",
    "                        self.lose = 0\n",
    "                except:\n",
    "                    pass\n",
    "        \n",
    "    def add_tile(self):\n",
    "        possibilities = []\n",
    "        for i in range(4):\n",
    "            for j in range(4):\n",
    "                if self.grid[i][j] == 0:\n",
    "                    possibilities.append((i,j))\n",
    "        value = np.random.choice([2,4], p=(.9,.1))\n",
    "        if possibilities:\n",
    "            a=possibilities[np.random.choice(len(possibilities))]\n",
    "            self.grid[a] = value\n",
    "    def random_game(self):\n",
    "        states = []\n",
    "        while (not self.lose):\n",
    "            move = np.random.choice(['l','r','u','d'])\n",
    "            states.append((self.grid, move))\n",
    "\n",
    "            self.move(move)\n",
    "            self.lost()\n",
    "            if (not np.array_equal(self.grid, self.temp)):\n",
    "                self.add_tile()\n",
    "#        print(self.grid)\n",
    "#        print(self.score)\n",
    "\n",
    "        return states\n",
    "   "
   ]
  },
  {
   "cell_type": "code",
   "execution_count": 13,
   "metadata": {},
   "outputs": [],
   "source": [
    "def test(game):\n",
    "    states = game.random_game()\n",
    "    score = game.score\n",
    "    initial_move = states[0][1]\n",
    "    return [initial_move, score]\n",
    "### Different game strategies here ###\n",
    "def monte_carlo(game):\n",
    "    def getmove(game):\n",
    "        grids = []\n",
    "        for i in range(500):\n",
    "            grids.append(copy.deepcopy(game))\n",
    "        move_scores = defaultdict(list)\n",
    "    \n",
    "\n",
    "#         p = Pool(5)\n",
    "\n",
    "#         move_and_score = p.map(test, grids)\n",
    "#         p.close()\n",
    "#         for i in move_and_score:\n",
    "#             move_scores[i[0]].append(i[1])\n",
    "\n",
    "        for game in grids:\n",
    "            state = game.random_game()\n",
    "            score = game.score\n",
    "            initial_move = state[0][1]\n",
    "            move_scores[initial_move].append( score)\n",
    "        score = 0\n",
    "        for key, value in move_scores.items():\n",
    "            if (sum(value)/len(value) >score ):\n",
    "                    move = key\n",
    "                    score = sum(value)/len(value)\n",
    "        return move\n",
    "            \n",
    "\n",
    "    states = []\n",
    "    while (not game.lose):\n",
    "        move = getmove(game)\n",
    "        states.append((game.grid, move))\n",
    "        game.move(move)\n",
    "        game.lost()\n",
    "        if (not np.array_equal(game.temp, game.grid)):\n",
    "            game.add_tile()\n",
    "#    print(game.grid)\n",
    "    print(game.score)\n",
    "    print(game.tile)\n",
    "    return states\n"
   ]
  },
  {
   "cell_type": "code",
   "execution_count": 14,
   "metadata": {},
   "outputs": [
    {
     "ename": "KeyboardInterrupt",
     "evalue": "",
     "output_type": "error",
     "traceback": [
      "\u001b[0;31m---------------------------------------------------------------------------\u001b[0m",
      "\u001b[0;31mKeyboardInterrupt\u001b[0m                         Traceback (most recent call last)",
      "\u001b[0;32m<ipython-input-14-1c5b1db1ba53>\u001b[0m in \u001b[0;36m<module>\u001b[0;34m()\u001b[0m\n\u001b[1;32m      2\u001b[0m \u001b[0;32mfor\u001b[0m \u001b[0mi\u001b[0m \u001b[0;32min\u001b[0m \u001b[0mrange\u001b[0m\u001b[0;34m(\u001b[0m\u001b[0;36m1\u001b[0m\u001b[0;34m)\u001b[0m\u001b[0;34m:\u001b[0m\u001b[0;34m\u001b[0m\u001b[0m\n\u001b[1;32m      3\u001b[0m     \u001b[0mboard\u001b[0m \u001b[0;34m=\u001b[0m \u001b[0mBoard\u001b[0m\u001b[0;34m(\u001b[0m\u001b[0;34m)\u001b[0m\u001b[0;34m\u001b[0m\u001b[0m\n\u001b[0;32m----> 4\u001b[0;31m     \u001b[0mmonte_carlo\u001b[0m\u001b[0;34m(\u001b[0m\u001b[0mboard\u001b[0m\u001b[0;34m)\u001b[0m\u001b[0;34m\u001b[0m\u001b[0m\n\u001b[0m\u001b[1;32m      5\u001b[0m \u001b[0mboard\u001b[0m\u001b[0;34m.\u001b[0m\u001b[0mscore\u001b[0m\u001b[0;34m\u001b[0m\u001b[0m\n",
      "\u001b[0;32m<ipython-input-13-a3171db73d2d>\u001b[0m in \u001b[0;36mmonte_carlo\u001b[0;34m(game)\u001b[0m\n\u001b[1;32m     35\u001b[0m     \u001b[0mstates\u001b[0m \u001b[0;34m=\u001b[0m \u001b[0;34m[\u001b[0m\u001b[0;34m]\u001b[0m\u001b[0;34m\u001b[0m\u001b[0m\n\u001b[1;32m     36\u001b[0m     \u001b[0;32mwhile\u001b[0m \u001b[0;34m(\u001b[0m\u001b[0;32mnot\u001b[0m \u001b[0mgame\u001b[0m\u001b[0;34m.\u001b[0m\u001b[0mlose\u001b[0m\u001b[0;34m)\u001b[0m\u001b[0;34m:\u001b[0m\u001b[0;34m\u001b[0m\u001b[0m\n\u001b[0;32m---> 37\u001b[0;31m         \u001b[0mmove\u001b[0m \u001b[0;34m=\u001b[0m \u001b[0mgetmove\u001b[0m\u001b[0;34m(\u001b[0m\u001b[0mgame\u001b[0m\u001b[0;34m)\u001b[0m\u001b[0;34m\u001b[0m\u001b[0m\n\u001b[0m\u001b[1;32m     38\u001b[0m         \u001b[0mstates\u001b[0m\u001b[0;34m.\u001b[0m\u001b[0mappend\u001b[0m\u001b[0;34m(\u001b[0m\u001b[0;34m(\u001b[0m\u001b[0mgame\u001b[0m\u001b[0;34m.\u001b[0m\u001b[0mgrid\u001b[0m\u001b[0;34m,\u001b[0m \u001b[0mmove\u001b[0m\u001b[0;34m)\u001b[0m\u001b[0;34m)\u001b[0m\u001b[0;34m\u001b[0m\u001b[0m\n\u001b[1;32m     39\u001b[0m         \u001b[0mgame\u001b[0m\u001b[0;34m.\u001b[0m\u001b[0mmove\u001b[0m\u001b[0;34m(\u001b[0m\u001b[0mmove\u001b[0m\u001b[0;34m)\u001b[0m\u001b[0;34m\u001b[0m\u001b[0m\n",
      "\u001b[0;32m<ipython-input-13-a3171db73d2d>\u001b[0m in \u001b[0;36mgetmove\u001b[0;34m(game)\u001b[0m\n\u001b[1;32m     21\u001b[0m \u001b[0;34m\u001b[0m\u001b[0m\n\u001b[1;32m     22\u001b[0m         \u001b[0;32mfor\u001b[0m \u001b[0mgame\u001b[0m \u001b[0;32min\u001b[0m \u001b[0mgrids\u001b[0m\u001b[0;34m:\u001b[0m\u001b[0;34m\u001b[0m\u001b[0m\n\u001b[0;32m---> 23\u001b[0;31m             \u001b[0mstate\u001b[0m \u001b[0;34m=\u001b[0m \u001b[0mgame\u001b[0m\u001b[0;34m.\u001b[0m\u001b[0mrandom_game\u001b[0m\u001b[0;34m(\u001b[0m\u001b[0;34m)\u001b[0m\u001b[0;34m\u001b[0m\u001b[0m\n\u001b[0m\u001b[1;32m     24\u001b[0m             \u001b[0mscore\u001b[0m \u001b[0;34m=\u001b[0m \u001b[0mgame\u001b[0m\u001b[0;34m.\u001b[0m\u001b[0mscore\u001b[0m\u001b[0;34m\u001b[0m\u001b[0m\n\u001b[1;32m     25\u001b[0m             \u001b[0minitial_move\u001b[0m \u001b[0;34m=\u001b[0m \u001b[0mstate\u001b[0m\u001b[0;34m[\u001b[0m\u001b[0;36m0\u001b[0m\u001b[0;34m]\u001b[0m\u001b[0;34m[\u001b[0m\u001b[0;36m1\u001b[0m\u001b[0;34m]\u001b[0m\u001b[0;34m\u001b[0m\u001b[0m\n",
      "\u001b[0;32m<ipython-input-4-658de407af81>\u001b[0m in \u001b[0;36mrandom_game\u001b[0;34m(self)\u001b[0m\n\u001b[1;32m     92\u001b[0m             \u001b[0mstates\u001b[0m\u001b[0;34m.\u001b[0m\u001b[0mappend\u001b[0m\u001b[0;34m(\u001b[0m\u001b[0;34m(\u001b[0m\u001b[0mself\u001b[0m\u001b[0;34m.\u001b[0m\u001b[0mgrid\u001b[0m\u001b[0;34m,\u001b[0m \u001b[0mmove\u001b[0m\u001b[0;34m)\u001b[0m\u001b[0;34m)\u001b[0m\u001b[0;34m\u001b[0m\u001b[0m\n\u001b[1;32m     93\u001b[0m \u001b[0;34m\u001b[0m\u001b[0m\n\u001b[0;32m---> 94\u001b[0;31m             \u001b[0mself\u001b[0m\u001b[0;34m.\u001b[0m\u001b[0mmove\u001b[0m\u001b[0;34m(\u001b[0m\u001b[0mmove\u001b[0m\u001b[0;34m)\u001b[0m\u001b[0;34m\u001b[0m\u001b[0m\n\u001b[0m\u001b[1;32m     95\u001b[0m             \u001b[0mself\u001b[0m\u001b[0;34m.\u001b[0m\u001b[0mlost\u001b[0m\u001b[0;34m(\u001b[0m\u001b[0;34m)\u001b[0m\u001b[0;34m\u001b[0m\u001b[0m\n\u001b[1;32m     96\u001b[0m             \u001b[0;32mif\u001b[0m \u001b[0;34m(\u001b[0m\u001b[0;32mnot\u001b[0m \u001b[0mnp\u001b[0m\u001b[0;34m.\u001b[0m\u001b[0marray_equal\u001b[0m\u001b[0;34m(\u001b[0m\u001b[0mself\u001b[0m\u001b[0;34m.\u001b[0m\u001b[0mgrid\u001b[0m\u001b[0;34m,\u001b[0m \u001b[0mself\u001b[0m\u001b[0;34m.\u001b[0m\u001b[0mtemp\u001b[0m\u001b[0;34m)\u001b[0m\u001b[0;34m)\u001b[0m\u001b[0;34m:\u001b[0m\u001b[0;34m\u001b[0m\u001b[0m\n",
      "\u001b[0;32m<ipython-input-4-658de407af81>\u001b[0m in \u001b[0;36mmove\u001b[0;34m(self, direction)\u001b[0m\n\u001b[1;32m     40\u001b[0m     \u001b[0;32mdef\u001b[0m \u001b[0mmove\u001b[0m\u001b[0;34m(\u001b[0m\u001b[0mself\u001b[0m\u001b[0;34m,\u001b[0m \u001b[0mdirection\u001b[0m\u001b[0;34m)\u001b[0m\u001b[0;34m:\u001b[0m\u001b[0;34m\u001b[0m\u001b[0m\n\u001b[1;32m     41\u001b[0m         \u001b[0;31m#Merge everything left.  Use flip and transpose for other orientations\u001b[0m\u001b[0;34m\u001b[0m\u001b[0;34m\u001b[0m\u001b[0m\n\u001b[0;32m---> 42\u001b[0;31m         \u001b[0mself\u001b[0m\u001b[0;34m.\u001b[0m\u001b[0mtemp\u001b[0m \u001b[0;34m=\u001b[0m \u001b[0mcopy\u001b[0m\u001b[0;34m.\u001b[0m\u001b[0mdeepcopy\u001b[0m\u001b[0;34m(\u001b[0m\u001b[0mself\u001b[0m\u001b[0;34m.\u001b[0m\u001b[0mgrid\u001b[0m\u001b[0;34m)\u001b[0m\u001b[0;34m\u001b[0m\u001b[0m\n\u001b[0m\u001b[1;32m     43\u001b[0m         \u001b[0;32mif\u001b[0m \u001b[0mdirection\u001b[0m \u001b[0;34m==\u001b[0m \u001b[0;34m'u'\u001b[0m\u001b[0;34m:\u001b[0m\u001b[0;34m\u001b[0m\u001b[0m\n\u001b[1;32m     44\u001b[0m             \u001b[0mself\u001b[0m\u001b[0;34m.\u001b[0m\u001b[0mgrid\u001b[0m \u001b[0;34m=\u001b[0m \u001b[0mnp\u001b[0m\u001b[0;34m.\u001b[0m\u001b[0mtranspose\u001b[0m\u001b[0;34m(\u001b[0m\u001b[0mself\u001b[0m\u001b[0;34m.\u001b[0m\u001b[0mgrid\u001b[0m\u001b[0;34m)\u001b[0m\u001b[0;34m\u001b[0m\u001b[0m\n",
      "\u001b[0;31mKeyboardInterrupt\u001b[0m: "
     ]
    }
   ],
   "source": [
    "states=[]\n",
    "for i in range(1):\n",
    "    board = Board()\n",
    "    monte_carlo(board)\n",
    "board.score"
   ]
  },
  {
   "cell_type": "code",
   "execution_count": null,
   "metadata": {},
   "outputs": [],
   "source": [
    "board = Board()\n",
    "states = monte_carlo(board)\n",
    "for i in states:\n",
    "    print(i)"
   ]
  },
  {
   "cell_type": "code",
   "execution_count": null,
   "metadata": {},
   "outputs": [],
   "source": []
  },
  {
   "cell_type": "code",
   "execution_count": null,
   "metadata": {},
   "outputs": [],
   "source": [
    "board.grid"
   ]
  },
  {
   "cell_type": "code",
   "execution_count": null,
   "metadata": {},
   "outputs": [],
   "source": []
  }
 ],
 "metadata": {
  "kernelspec": {
   "display_name": "learn-env",
   "language": "python",
   "name": "learn-env"
  },
  "language_info": {
   "codemirror_mode": {
    "name": "ipython",
    "version": 3
   },
   "file_extension": ".py",
   "mimetype": "text/x-python",
   "name": "python",
   "nbconvert_exporter": "python",
   "pygments_lexer": "ipython3",
   "version": "3.6.6"
  }
 },
 "nbformat": 4,
 "nbformat_minor": 2
}
